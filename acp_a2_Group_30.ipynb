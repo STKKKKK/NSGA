{
  "nbformat": 4,
  "nbformat_minor": 0,
  "metadata": {
    "colab": {
      "name": "acp_a2_Group#30.ipynb",
      "provenance": [],
      "collapsed_sections": [],
      "toc_visible": true,
      "include_colab_link": true
    },
    "kernelspec": {
      "name": "python3",
      "display_name": "Python 3"
    }
  },
  "cells": [
    {
      "cell_type": "markdown",
      "metadata": {
        "id": "view-in-github",
        "colab_type": "text"
      },
      "source": [
        "<a href=\"https://colab.research.google.com/github/STKKKKK/UTS_41004_ID12431868/blob/master/acp_a2_Group_30.ipynb\" target=\"_parent\"><img src=\"https://colab.research.google.com/assets/colab-badge.svg\" alt=\"Open In Colab\"/></a>"
      ]
    },
    {
      "cell_type": "markdown",
      "metadata": {
        "id": "ePArXqfXCDTW",
        "colab_type": "text"
      },
      "source": [
        "# 41004_A2\n",
        "# Project 9-Topic 4: Multi-Objective Optimization"
      ]
    },
    {
      "cell_type": "markdown",
      "metadata": {
        "id": "hScyzRvEheLi",
        "colab_type": "text"
      },
      "source": [
        "Github Link: "
      ]
    },
    {
      "cell_type": "markdown",
      "metadata": {
        "id": "Ulr9C-lOfJ-I",
        "colab_type": "text"
      },
      "source": [
        "**members of the group#30:**<br>\n",
        "Yi Lin      12444129 <br>\n",
        "Shiwei Xu   12418986 <br>\n",
        "Yuxiang Xu  12715948 <br>\n",
        "Hong Kung   12431868 <br>"
      ]
    },
    {
      "cell_type": "markdown",
      "metadata": {
        "id": "dmSS3Wt1p19s",
        "colab_type": "text"
      },
      "source": [
        "##  Problem description  "
      ]
    },
    {
      "cell_type": "markdown",
      "metadata": {
        "id": "hsWXCoTHr4jI",
        "colab_type": "text"
      },
      "source": [
        "Our data analytics company will help our customer deal with the MOO(multi-objective optimization) <br>problems in their database. As it is shown later, The dataset is about social network analysis,<br> include 1000 topic nodes and their 5 rankings for each attribute.<br>\n",
        "Our current goal is to re-rank these nodes by multiple attributes. Three traditional approaches <br>will be implement to solve this MOO problem: scalarization, machine learning, non-dominated sorting<br>(this is what we are mainly focused on and will be developed in future tasks)  <br>"
      ]
    },
    {
      "cell_type": "markdown",
      "metadata": {
        "id": "MWTkTBdXp_jp",
        "colab_type": "text"
      },
      "source": [
        "## Data exploration and initial findings"
      ]
    },
    {
      "cell_type": "markdown",
      "metadata": {
        "id": "CiljAnBRI1np",
        "colab_type": "text"
      },
      "source": [
        "In this section, we will prepare the dataset we use and show what we have dicovered so far."
      ]
    },
    {
      "cell_type": "code",
      "metadata": {
        "id": "-rVqVDHBqVfl",
        "colab_type": "code",
        "colab": {}
      },
      "source": [
        "#Importing required modules\n",
        "import numpy as np\n",
        "import pandas as pd\n",
        "import math\n",
        "import random"
      ],
      "execution_count": 0,
      "outputs": []
    },
    {
      "cell_type": "code",
      "metadata": {
        "id": "Xf5y1MhqtDfF",
        "colab_type": "code",
        "outputId": "20bdb37d-8b5a-4dfe-aac7-ef4c8b090b0b",
        "colab": {
          "base_uri": "https://localhost:8080/",
          "height": 238
        }
      },
      "source": [
        "# The excel dataset have been uploaded to github\n",
        "url = 'https://raw.githubusercontent.com/STKKKKK/UTS_41004_ID12431868/master/Topic4_IS_multipleRanking.xlsx'\n",
        "df = pd.read_excel(url)\n",
        "\n",
        "df.head()"
      ],
      "execution_count": 54,
      "outputs": [
        {
          "output_type": "execute_result",
          "data": {
            "text/html": [
              "<div>\n",
              "<style scoped>\n",
              "    .dataframe tbody tr th:only-of-type {\n",
              "        vertical-align: middle;\n",
              "    }\n",
              "\n",
              "    .dataframe tbody tr th {\n",
              "        vertical-align: top;\n",
              "    }\n",
              "\n",
              "    .dataframe thead th {\n",
              "        text-align: right;\n",
              "    }\n",
              "</style>\n",
              "<table border=\"1\" class=\"dataframe\">\n",
              "  <thead>\n",
              "    <tr style=\"text-align: right;\">\n",
              "      <th></th>\n",
              "      <th>Node</th>\n",
              "      <th>Degree Centrality</th>\n",
              "      <th>Closeness Centrality</th>\n",
              "      <th>Between Centrality</th>\n",
              "      <th>Connectivity</th>\n",
              "      <th>Externality</th>\n",
              "    </tr>\n",
              "  </thead>\n",
              "  <tbody>\n",
              "    <tr>\n",
              "      <th>0</th>\n",
              "      <td>Bibliometrics</td>\n",
              "      <td>3905.924925</td>\n",
              "      <td>0.806295</td>\n",
              "      <td>0.021293</td>\n",
              "      <td>9.620818</td>\n",
              "      <td>62045</td>\n",
              "    </tr>\n",
              "    <tr>\n",
              "      <th>1</th>\n",
              "      <td>Information retrieval</td>\n",
              "      <td>2157.933934</td>\n",
              "      <td>0.753394</td>\n",
              "      <td>0.018668</td>\n",
              "      <td>6.956349</td>\n",
              "      <td>26450</td>\n",
              "    </tr>\n",
              "    <tr>\n",
              "      <th>2</th>\n",
              "      <td>collaboration</td>\n",
              "      <td>2465.552553</td>\n",
              "      <td>0.793487</td>\n",
              "      <td>0.021247</td>\n",
              "      <td>6.073034</td>\n",
              "      <td>28579</td>\n",
              "    </tr>\n",
              "    <tr>\n",
              "      <th>3</th>\n",
              "      <td>United States</td>\n",
              "      <td>2077.891892</td>\n",
              "      <td>0.770833</td>\n",
              "      <td>0.018114</td>\n",
              "      <td>5.764045</td>\n",
              "      <td>23063</td>\n",
              "    </tr>\n",
              "    <tr>\n",
              "      <th>4</th>\n",
              "      <td>case study</td>\n",
              "      <td>1771.111111</td>\n",
              "      <td>0.794118</td>\n",
              "      <td>0.021508</td>\n",
              "      <td>2.436242</td>\n",
              "      <td>21383</td>\n",
              "    </tr>\n",
              "  </tbody>\n",
              "</table>\n",
              "</div>"
            ],
            "text/plain": [
              "                    Node  Degree Centrality  ...  Connectivity  Externality\n",
              "0          Bibliometrics        3905.924925  ...      9.620818        62045\n",
              "1  Information retrieval        2157.933934  ...      6.956349        26450\n",
              "2          collaboration        2465.552553  ...      6.073034        28579\n",
              "3          United States        2077.891892  ...      5.764045        23063\n",
              "4             case study        1771.111111  ...      2.436242        21383\n",
              "\n",
              "[5 rows x 6 columns]"
            ]
          },
          "metadata": {
            "tags": []
          },
          "execution_count": 54
        }
      ]
    },
    {
      "cell_type": "code",
      "metadata": {
        "id": "9Pg-5x5y6Ynb",
        "colab_type": "code",
        "colab": {
          "base_uri": "https://localhost:8080/",
          "height": 238
        },
        "outputId": "fa40a0cf-34b2-46c2-f1a5-8515c3d6f45e"
      },
      "source": [
        "df.info()"
      ],
      "execution_count": 55,
      "outputs": [
        {
          "output_type": "stream",
          "text": [
            "<class 'pandas.core.frame.DataFrame'>\n",
            "RangeIndex: 1000 entries, 0 to 999\n",
            "Data columns (total 6 columns):\n",
            " #   Column                Non-Null Count  Dtype  \n",
            "---  ------                --------------  -----  \n",
            " 0   Node                  1000 non-null   object \n",
            " 1   Degree Centrality     1000 non-null   float64\n",
            " 2   Closeness Centrality  1000 non-null   float64\n",
            " 3   Between Centrality    1000 non-null   float64\n",
            " 4   Connectivity          1000 non-null   float64\n",
            " 5   Externality           1000 non-null   int64  \n",
            "dtypes: float64(4), int64(1), object(1)\n",
            "memory usage: 47.0+ KB\n"
          ],
          "name": "stdout"
        }
      ]
    },
    {
      "cell_type": "markdown",
      "metadata": {
        "id": "BNcnAZrERkZ7",
        "colab_type": "text"
      },
      "source": [
        "The dataset have 1000 rows and 5 columns. And fortunately, there is no null value."
      ]
    },
    {
      "cell_type": "markdown",
      "metadata": {
        "id": "JdZXQX47FbjI",
        "colab_type": "text"
      },
      "source": [
        "Apart from **df**, we can also create **df2, df3** which have a different object type, <br>since this is convenient for different usages."
      ]
    },
    {
      "cell_type": "code",
      "metadata": {
        "id": "QoHupVOR_wmE",
        "colab_type": "code",
        "colab": {}
      },
      "source": [
        "# df is the original pandas dataframe\n",
        "df2 = np.array(df)      # df2 is a 2-dimensional numpy array\n",
        "df3 = df2.T             # df3 convert the x and y-axis of df2"
      ],
      "execution_count": 0,
      "outputs": []
    },
    {
      "cell_type": "code",
      "metadata": {
        "id": "AMnjhx6PTTHE",
        "colab_type": "code",
        "colab": {
          "base_uri": "https://localhost:8080/",
          "height": 51
        },
        "outputId": "f1a3da00-d2c1-4c93-c82d-79252afe18d3"
      },
      "source": [
        "print(df2.shape)\n",
        "print(df3.shape)"
      ],
      "execution_count": 57,
      "outputs": [
        {
          "output_type": "stream",
          "text": [
            "(1000, 6)\n",
            "(6, 1000)\n"
          ],
          "name": "stdout"
        }
      ]
    },
    {
      "cell_type": "markdown",
      "metadata": {
        "id": "6dJE0OerKQiy",
        "colab_type": "text"
      },
      "source": [
        "## Difficulties encountered & Updated project plan "
      ]
    },
    {
      "cell_type": "markdown",
      "metadata": {
        "id": "qAcj0-ekoaY1",
        "colab_type": "text"
      },
      "source": [
        "The main difficulty of MOO is to build the model.In this section, we will process the data with <br>three traditional approaches: scalarization, non-dominated sorting and machine learning. And we <br>will also update project plan under each model we build."
      ]
    },
    {
      "cell_type": "markdown",
      "metadata": {
        "id": "6TnkKTlCpL9V",
        "colab_type": "text"
      },
      "source": [
        "### Scalarization"
      ]
    },
    {
      "cell_type": "markdown",
      "metadata": {
        "id": "_D8PHf_3WBJE",
        "colab_type": "text"
      },
      "source": [
        "Scalarization is a basic method to deal with MOO. It is relatively simple in classical technology. <br>Its main step is to combine multiple objective functions into a whole objective function, and <br>determine the weight before the optimization process.<br>\n",
        "The optimal solution is controlled by the weight vector. In our case, we will use the equal-weights <br>as an easy example."
      ]
    },
    {
      "cell_type": "code",
      "metadata": {
        "id": "3bkZ0avvRkUp",
        "colab_type": "code",
        "colab": {}
      },
      "source": [
        "def equal_weights(*args):  \n",
        "    sums = np.array([0 for i in range(1000)])\n",
        "    n = len(args)\n",
        "    for x in args:\n",
        "        df_sorted = df.sort_values(by = x)\n",
        "        df_np = (np.array(df_sorted)).T\n",
        "\n",
        "        rank = 1\n",
        "        for node in df_np[0]:\n",
        "            i = list(df['Node']).index(node)\n",
        "            sums[i] = sums[i] + rank\n",
        "            rank = rank + 1\n",
        "    return 1000 - sums/n"
      ],
      "execution_count": 0,
      "outputs": []
    },
    {
      "cell_type": "code",
      "metadata": {
        "id": "sKwS1Px7ZuOs",
        "colab_type": "code",
        "outputId": "16800c21-0890-43e6-ec33-c523c4d6f827",
        "colab": {
          "base_uri": "https://localhost:8080/",
          "height": 85
        }
      },
      "source": [
        "# Then we test the function with 3 attributes.\n",
        "res = equal_weights('Closeness Centrality', 'Connectivity', 'Externality')\n",
        "# We print out the rank of first 10 nodes to see if works.\n",
        "print(res[:10])\n",
        "print('\\n', 'There are', len(res), 'ranks in 1000 nodes!')"
      ],
      "execution_count": 59,
      "outputs": [
        {
          "output_type": "stream",
          "text": [
            "[ 0.          3.          1.66666667  3.66666667 11.66666667 30.\n",
            " 12.66666667  3.66666667 14.         64.66666667]\n",
            "\n",
            " There are 1000 ranks in 1000 nodes!\n"
          ],
          "name": "stdout"
        }
      ]
    },
    {
      "cell_type": "markdown",
      "metadata": {
        "id": "1W9cgP0u2PRe",
        "colab_type": "text"
      },
      "source": [
        "**Updated project plan:**<br>\n",
        "Although we can get a very long ranking list which is one of the main goal of MOO problem. <br>However in reality, a solution with equal weight for all goals may be almost nonexistent. It <br>is good for us to look for a more robust model to solve with the MOO problem, Non-Dominated Sorting <br>and NSGA(Non-Dominated Sorting Genetic Algorithm) will be implemented in the following task.\n"
      ]
    },
    {
      "cell_type": "markdown",
      "metadata": {
        "id": "o1MOgDuLpfm-",
        "colab_type": "text"
      },
      "source": [
        "### Non-Dominated Sorting"
      ]
    },
    {
      "cell_type": "markdown",
      "metadata": {
        "id": "k1UWjbiDdH03",
        "colab_type": "text"
      },
      "source": [
        "Non-dominated sorting is the most widely used selection operation of MOO problems. <br>\n",
        "Initially, we need to define what is: point A(m1,m2,m3...) 'dominate' another point B(n1,n2,n3...)."
      ]
    },
    {
      "cell_type": "code",
      "metadata": {
        "id": "ElunFfRLnhPR",
        "colab_type": "code",
        "colab": {}
      },
      "source": [
        "def dominate(cols, a, b):   \n",
        "    \"\"\"\n",
        "    return 1: true\n",
        "    return 0: false\n",
        "    return -1: neither OR 'a,b are the same point'\n",
        "    \"\"\"    \n",
        "    n = len(cols)\n",
        "    flags = []\n",
        "    for col in cols:\n",
        "        if col[a] > col[b]:\n",
        "            flags.append('greater')\n",
        "        elif col[a] < col[b]:\n",
        "            flags.append('smaller')\n",
        "        elif col[a] == col[b]:\n",
        "            flags.append('equal')\n",
        "    \n",
        "    if ('greater' not in flags and 'smaller' not in flags):\n",
        "        return -1\n",
        "    elif ('smaller' not in flags):\n",
        "        return 1\n",
        "    elif ('greater' not in flags):\n",
        "        return 0\n",
        "    else:\n",
        "        return -1"
      ],
      "execution_count": 0,
      "outputs": []
    },
    {
      "cell_type": "markdown",
      "metadata": {
        "id": "hTVQvR2_mZXg",
        "colab_type": "text"
      },
      "source": [
        "Non-dominated sorting means to sort the solutions in population according to <br>the **Pareto dominance principle.**"
      ]
    },
    {
      "cell_type": "code",
      "metadata": {
        "id": "0IEHrc6GlGdF",
        "colab_type": "code",
        "colab": {}
      },
      "source": [
        "def fast_non_dominated_sort(cols):\n",
        "    \"\"\"\n",
        "    This fuction will return the Pareto front after sorting.\n",
        "    Front: Pareto front\n",
        "    Dom: the dominate list of each point.\n",
        "    n: the 'inferior level' of each point.\n",
        "        -- for example: n[A]==0 :point A is not dominated by any point.\n",
        "                        n[A]==2 :point A is dominated by all points with n[B]==1,\n",
        "                                 and dominates all points with n[C]==3.\n",
        "    rank: rank of the point.\n",
        "    \"\"\"\n",
        "    Front = [[]]\n",
        "    Dom = [[] for i in range(0,len(cols[0]))]\n",
        "    n = [0 for i in range(0,len(cols[0]))]\n",
        "\n",
        "    for f in range(0,len(cols[0])):\n",
        "        for g in range(0, len(cols[0])):\n",
        "            if (dominate(cols, f, g) == 1) and not(g in Dom[f]):\n",
        "                Dom[f].append(g)\n",
        "            elif (dominate(cols, f, g) == 0):\n",
        "                n[f] = n[f] +1        \n",
        "        if (n[f] == 0) and not(f in Front[0]):\n",
        "            Front[0].append(f)\n",
        "\n",
        "    rank = 0\n",
        "    while(Front[rank] != []):\n",
        "        Q=[]\n",
        "        for f in Front[rank]:\n",
        "            for g in Dom[f]:\n",
        "                n[g] = n[g] -1\n",
        "                if (n[g] == 0) and not(g in Q):\n",
        "                     Q.append(g)\n",
        "        rank = rank +1\n",
        "        Front.append(Q)\n",
        "\n",
        "    Front.pop()\n",
        "    return Front"
      ],
      "execution_count": 0,
      "outputs": []
    },
    {
      "cell_type": "markdown",
      "metadata": {
        "id": "w9ucnKb62-Jt",
        "colab_type": "text"
      },
      "source": [
        "At the first stage, we defined the non-dominated sort function which can only carry out 2 columns<br>(attribute) for each node. By reviewing several concepts of Pareto dominance, we finally decide <br>to define a 'dominate' function individually, from that we can easily handle out any numbers of attributes. \n"
      ]
    },
    {
      "cell_type": "code",
      "metadata": {
        "id": "kAcAWbtEA0-e",
        "colab_type": "code",
        "outputId": "58052da2-17cd-468e-c4be-2f47ed1a1216",
        "colab": {
          "base_uri": "https://localhost:8080/",
          "height": 68
        }
      },
      "source": [
        "# Then we test the function with 3 attributes\n",
        "res2 = fast_non_dominated_sort(df3[1:4])\n",
        "# we print out first 7 ranks to see which node(node index) is included  \n",
        "print(res2[:7])\n",
        "print('\\n', 'There are', len(res2), 'ranks in 1000 nodes!')"
      ],
      "execution_count": 62,
      "outputs": [
        {
          "output_type": "stream",
          "text": [
            "[[0, 4], [2], [1, 3], [5, 7], [11, 13, 18], [29, 12, 6, 21], [10, 16]]\n",
            "\n",
            " There are 114 ranks in 1000 nodes!\n"
          ],
          "name": "stdout"
        }
      ]
    },
    {
      "cell_type": "code",
      "metadata": {
        "id": "i3oaqzY0wk_T",
        "colab_type": "code",
        "colab": {
          "base_uri": "https://localhost:8080/",
          "height": 190
        },
        "outputId": "1c29b142-ddb3-47c8-9e47-96bffb792c1e"
      },
      "source": [
        "# We can also test the function with all attributes\n",
        "res3 = fast_non_dominated_sort(df3[:])\n",
        "# we print out first 7 ranks to see which node(node index) is included  \n",
        "print(*res3[:7], sep='\\n')\n",
        "print('\\n', 'There are', len(res3), 'ranks in 1000 nodes!')"
      ],
      "execution_count": 46,
      "outputs": [
        {
          "output_type": "stream",
          "text": [
            "[0, 1, 2, 4, 5, 6, 12, 13, 18, 19, 21, 29, 32, 40, 46, 55, 90, 112, 134, 213, 338, 849, 986]\n",
            "[3, 7, 16, 34, 43, 22, 24, 14, 9, 33, 45, 17, 20, 25, 26, 41, 42, 44, 92, 106, 69, 143, 158, 179, 212, 229, 159, 194, 204, 241, 262, 329, 373, 451, 520, 521, 337, 485]\n",
            "[10, 11, 15, 8, 28, 35, 39, 60, 27, 63, 70, 23, 31, 37, 38, 67, 49, 52, 56, 62, 73, 79, 89, 172, 310, 311, 328, 284, 308, 291, 243, 293, 233, 275, 372, 312, 319, 418, 467, 591, 522, 797, 847, 888, 931]\n",
            "[81, 66, 86, 88, 110, 127, 239, 53, 58, 59, 30, 36, 57, 64, 74, 75, 78, 99, 121, 50, 65, 84, 87, 91, 126, 107, 131, 417, 449, 466, 547, 565, 383, 242, 540, 796, 464, 366, 261, 401, 431, 450, 606, 721, 336, 365, 542, 543, 628, 984]\n",
            "[346, 125, 138, 274, 149, 164, 178, 183, 217, 232, 246, 249, 171, 83, 47, 103, 123, 162, 72, 76, 80, 85, 93, 94, 96, 104, 111, 122, 147, 98, 109, 114, 130, 145, 146, 148, 231, 182, 200, 48, 61, 77, 101, 165, 586, 719, 500, 627, 654, 714, 792, 839, 885, 564, 626, 712, 484, 545, 318, 400, 516, 546, 607, 757, 929, 793, 483, 539]\n",
            "[364, 224, 201, 290, 343, 349, 446, 515, 685, 68, 116, 51, 202, 97, 117, 71, 100, 105, 157, 166, 54, 108, 115, 119, 120, 135, 161, 156, 137, 132, 209, 259, 170, 198, 186, 256, 269, 506, 908, 153, 82, 118, 142, 154, 518, 686, 755, 791, 886, 715, 752, 845, 977, 448, 544, 566, 608, 629, 655, 756, 795, 926, 927, 589, 590, 587, 588, 930]\n",
            "[245, 430, 363, 751, 482, 499, 604, 789, 711, 160, 226, 113, 128, 139, 169, 173, 258, 395, 124, 176, 195, 197, 614, 775, 190, 210, 155, 168, 174, 177, 216, 248, 271, 263, 187, 196, 199, 208, 227, 252, 260, 266, 289, 327, 332, 344, 362, 413, 425, 440, 445, 462, 95, 140, 883, 975, 922, 924, 716, 688, 689, 844, 928, 713, 718, 753, 882, 541, 687, 841, 982]\n",
            "\n",
            " There are 17 ranks in 1000 nodes!\n"
          ],
          "name": "stdout"
        }
      ]
    },
    {
      "cell_type": "markdown",
      "metadata": {
        "id": "QwHY1GU8Bzjh",
        "colab_type": "text"
      },
      "source": [
        "**Updated project plan:**<br>\n",
        "According to the ranking results, it is shown that the more objects(attributs) we need to handle out, <br>the shorter length we have for the ranking list, and more point will convergence to the same rank <br>(before they are confirmed as 'very accurate'). <br>\n",
        "These issues are not acceptable in MOO, and must be solved in the future task. Since we definitely <br>can't decide how many objects(attribute) we need to handle in the bussiness problem, we have <br>to operate more with the ranking result we have now. Genetic Algorithm will be used, and the <br>first step is to calculate the crowd distance of different points. Many operation also need to <br>be built, then we will finally build a robust NSGA.<br>\n",
        "Moreover, In our opinion, machine leaning methods can be also used in MOO. In current assignment, we <br>will just build the model, and use the non-dominated sorting result as the train dataset."
      ]
    },
    {
      "cell_type": "markdown",
      "metadata": {
        "id": "aDefo-XgpFaB",
        "colab_type": "text"
      },
      "source": [
        "### Machine Learning"
      ]
    },
    {
      "cell_type": "code",
      "metadata": {
        "id": "bzLno3cJqI3R",
        "colab_type": "code",
        "colab": {}
      },
      "source": [
        "# Importing required modules for Machine learning\n",
        "import seaborn as sns\n",
        "from sklearn.preprocessing import StandardScaler, LabelEncoder\n",
        "from sklearn.model_selection import train_test_split\n",
        "from sklearn import metrics #for checking the model accuracy\n",
        "\n",
        "from sklearn.tree import DecisionTreeClassifier\n",
        "from sklearn.neighbors import KNeighborsClassifier\n",
        "from sklearn.ensemble import BaggingClassifier\n",
        "from sklearn.ensemble import AdaBoostClassifier"
      ],
      "execution_count": 0,
      "outputs": []
    },
    {
      "cell_type": "markdown",
      "metadata": {
        "id": "VWRcKx7CTWm4",
        "colab_type": "text"
      },
      "source": [
        "The result from Non-Dominated Sort will be used in this section. Note that we will use the res2, which only handle out the object(attribute) No.2,3,4."
      ]
    },
    {
      "cell_type": "code",
      "metadata": {
        "id": "7g-R96h-u2d-",
        "colab_type": "code",
        "outputId": "f27a19f1-a62c-4c6b-e980-5bc0a2df816f",
        "colab": {
          "base_uri": "https://localhost:8080/",
          "height": 394
        }
      },
      "source": [
        "df['rank'] = 0      #should create the column 'rank' first\n",
        "\n",
        "rank = 0\n",
        "for m in res2:\n",
        "    for node_id in m:\n",
        "        df['rank'][node_id] = rank\n",
        "    rank = rank +1\n",
        "\n",
        "df['range'] = df['rank'].apply(\n",
        "    lambda x: (x < 11 and '0~10') or (x < 21 and '11~20') or (x < 31 and '21~30') \n",
        "         or (x < 41 and '31~40') or (x < 51 and '41~50') or (x < 61 and '51~60')\n",
        "         or (x < 71 and '61~70') or (x < 81 and '71~80') or (x < 91 and '81~90')\n",
        "         or (x < 101 and '91~100') or '101~114')\n",
        "\n",
        "# Look we have now\n",
        "df.tail()"
      ],
      "execution_count": 67,
      "outputs": [
        {
          "output_type": "stream",
          "text": [
            "/usr/local/lib/python3.6/dist-packages/ipykernel_launcher.py:5: SettingWithCopyWarning: \n",
            "A value is trying to be set on a copy of a slice from a DataFrame\n",
            "\n",
            "See the caveats in the documentation: https://pandas.pydata.org/pandas-docs/stable/user_guide/indexing.html#returning-a-view-versus-a-copy\n",
            "  \"\"\"\n"
          ],
          "name": "stderr"
        },
        {
          "output_type": "execute_result",
          "data": {
            "text/html": [
              "<div>\n",
              "<style scoped>\n",
              "    .dataframe tbody tr th:only-of-type {\n",
              "        vertical-align: middle;\n",
              "    }\n",
              "\n",
              "    .dataframe tbody tr th {\n",
              "        vertical-align: top;\n",
              "    }\n",
              "\n",
              "    .dataframe thead th {\n",
              "        text-align: right;\n",
              "    }\n",
              "</style>\n",
              "<table border=\"1\" class=\"dataframe\">\n",
              "  <thead>\n",
              "    <tr style=\"text-align: right;\">\n",
              "      <th></th>\n",
              "      <th>Node</th>\n",
              "      <th>Degree Centrality</th>\n",
              "      <th>Closeness Centrality</th>\n",
              "      <th>Between Centrality</th>\n",
              "      <th>Connectivity</th>\n",
              "      <th>Externality</th>\n",
              "      <th>rank</th>\n",
              "      <th>range</th>\n",
              "    </tr>\n",
              "  </thead>\n",
              "  <tbody>\n",
              "    <tr>\n",
              "      <th>995</th>\n",
              "      <td>co-citation networks</td>\n",
              "      <td>11.009009</td>\n",
              "      <td>0.524685</td>\n",
              "      <td>0.000130</td>\n",
              "      <td>0.331461</td>\n",
              "      <td>873</td>\n",
              "      <td>77</td>\n",
              "      <td>71~80</td>\n",
              "    </tr>\n",
              "    <tr>\n",
              "      <th>996</th>\n",
              "      <td>Cognitive Science</td>\n",
              "      <td>7.185185</td>\n",
              "      <td>0.519231</td>\n",
              "      <td>0.000101</td>\n",
              "      <td>0.164430</td>\n",
              "      <td>664</td>\n",
              "      <td>92</td>\n",
              "      <td>91~100</td>\n",
              "    </tr>\n",
              "    <tr>\n",
              "      <th>997</th>\n",
              "      <td>cognitive structure</td>\n",
              "      <td>7.986987</td>\n",
              "      <td>0.520584</td>\n",
              "      <td>0.000136</td>\n",
              "      <td>0.230337</td>\n",
              "      <td>2126</td>\n",
              "      <td>86</td>\n",
              "      <td>81~90</td>\n",
              "    </tr>\n",
              "    <tr>\n",
              "      <th>998</th>\n",
              "      <td>Congress Subject Headings</td>\n",
              "      <td>6.964965</td>\n",
              "      <td>0.518422</td>\n",
              "      <td>0.000117</td>\n",
              "      <td>0.123016</td>\n",
              "      <td>308</td>\n",
              "      <td>90</td>\n",
              "      <td>81~90</td>\n",
              "    </tr>\n",
              "    <tr>\n",
              "      <th>999</th>\n",
              "      <td>cost-effectiveness</td>\n",
              "      <td>4.624625</td>\n",
              "      <td>0.517081</td>\n",
              "      <td>0.000121</td>\n",
              "      <td>0.063492</td>\n",
              "      <td>378</td>\n",
              "      <td>92</td>\n",
              "      <td>91~100</td>\n",
              "    </tr>\n",
              "  </tbody>\n",
              "</table>\n",
              "</div>"
            ],
            "text/plain": [
              "                          Node  Degree Centrality  ...  rank   range\n",
              "995       co-citation networks          11.009009  ...    77   71~80\n",
              "996          Cognitive Science           7.185185  ...    92  91~100\n",
              "997        cognitive structure           7.986987  ...    86   81~90\n",
              "998  Congress Subject Headings           6.964965  ...    90   81~90\n",
              "999         cost-effectiveness           4.624625  ...    92  91~100\n",
              "\n",
              "[5 rows x 8 columns]"
            ]
          },
          "metadata": {
            "tags": []
          },
          "execution_count": 67
        }
      ]
    },
    {
      "cell_type": "markdown",
      "metadata": {
        "id": "hgxgp6FLVhD9",
        "colab_type": "text"
      },
      "source": [
        "We want 700 nodes used for training, and the rest of the nodes used for testing"
      ]
    },
    {
      "cell_type": "code",
      "metadata": {
        "id": "KPcchfQtpKs7",
        "colab_type": "code",
        "outputId": "4955c7c8-0908-472c-f884-cc43bd2c41b5",
        "colab": {
          "base_uri": "https://localhost:8080/",
          "height": 51
        }
      },
      "source": [
        "train, test = train_test_split(df, test_size = 0.3)\n",
        "print(train.shape)\n",
        "print(test.shape)"
      ],
      "execution_count": 70,
      "outputs": [
        {
          "output_type": "stream",
          "text": [
            "(700, 8)\n",
            "(300, 8)\n"
          ],
          "name": "stdout"
        }
      ]
    },
    {
      "cell_type": "code",
      "metadata": {
        "id": "xN4eAc1upxbf",
        "colab_type": "code",
        "colab": {}
      },
      "source": [
        "Set = ['Closeness Centrality','Between Centrality','Connectivity']\n",
        "\n",
        "train_X = train[Set]\n",
        "train_y = train['range']\t\n",
        "test_X = test[Set] \n",
        "test_y = test['range']"
      ],
      "execution_count": 0,
      "outputs": []
    },
    {
      "cell_type": "markdown",
      "metadata": {
        "id": "Zcc5uFu1WSUs",
        "colab_type": "text"
      },
      "source": [
        "By the first, we build a ID3 model."
      ]
    },
    {
      "cell_type": "code",
      "metadata": {
        "id": "3UovvbY5s-lb",
        "colab_type": "code",
        "outputId": "45d1d4d9-3830-4769-98fa-f7b7c25e7399",
        "colab": {
          "base_uri": "https://localhost:8080/",
          "height": 34
        }
      },
      "source": [
        "model1 = DecisionTreeClassifier(criterion=\"entropy\")\n",
        "model1.fit(train_X, train_y)\n",
        "prediction = model1.predict(test_X)\n",
        "print('The accuracy of the Decision Tree (ID3) is',metrics.accuracy_score(prediction,test_y))"
      ],
      "execution_count": 82,
      "outputs": [
        {
          "output_type": "stream",
          "text": [
            "The accuracy of the Decision Tree (ID3) is 0.85\n"
          ],
          "name": "stdout"
        }
      ]
    },
    {
      "cell_type": "markdown",
      "metadata": {
        "id": "_-anLLLYWj7v",
        "colab_type": "text"
      },
      "source": [
        "The accuracy is satisfy. We can also build some ensemble models to see whether they will have better performance."
      ]
    },
    {
      "cell_type": "code",
      "metadata": {
        "id": "7Cccs1nuuVOw",
        "colab_type": "code",
        "outputId": "4a280560-d649-419e-afd0-bf3d9256afc3",
        "colab": {
          "base_uri": "https://localhost:8080/",
          "height": 34
        }
      },
      "source": [
        "model2 = BaggingClassifier(base_estimator=model1, n_estimators=10, max_samples=0.8, max_features=0.8)\n",
        "model2.fit(train_X, train_y)\n",
        "prediction = model2.predict(test_X)\n",
        "print('The accuracy of the Bagging is',metrics.accuracy_score(prediction,test_y))"
      ],
      "execution_count": 73,
      "outputs": [
        {
          "output_type": "stream",
          "text": [
            "The accuracy of the Bagging is 0.8833333333333333\n"
          ],
          "name": "stdout"
        }
      ]
    },
    {
      "cell_type": "code",
      "metadata": {
        "id": "Np0XZhXevvIL",
        "colab_type": "code",
        "outputId": "2e106697-a1cc-4bb9-b941-290ab0cca1f5",
        "colab": {
          "base_uri": "https://localhost:8080/",
          "height": 34
        }
      },
      "source": [
        "model3 = AdaBoostClassifier(base_estimator=model1, n_estimators=10)\n",
        "model3.fit(train_X, train_y)\n",
        "prediction = model3.predict(test_X)\n",
        "print('The accuracy of the AdaBoosting is',metrics.accuracy_score(prediction,test_y))"
      ],
      "execution_count": 85,
      "outputs": [
        {
          "output_type": "stream",
          "text": [
            "The accuracy of the AdaBoosting is 0.8533333333333334\n"
          ],
          "name": "stdout"
        }
      ]
    },
    {
      "cell_type": "markdown",
      "metadata": {
        "id": "NOgRexbSVC3N",
        "colab_type": "text"
      },
      "source": [
        "According to the result which runs several times, we find that bagging method have higher accuracy <br>than individual ID3 model, while AdaBoosting does not significantly perform better."
      ]
    },
    {
      "cell_type": "markdown",
      "metadata": {
        "id": "vQNFBRwlTf-Y",
        "colab_type": "text"
      },
      "source": [
        "**Updated project plan:**<br>"
      ]
    },
    {
      "cell_type": "markdown",
      "metadata": {
        "id": "6-Z2gT3yZRuV",
        "colab_type": "text"
      },
      "source": [
        "Since we haven't yet develop the non-dominated sort to deal with the ranking result in deeper <br>aspect. We will keep the machine learning model to be used in future task. No matter if <br>machine learning really have its effect to deal with the problems in our non-dominated sort <br>result. We can still keep the idea when we develop our genetic algorithm model in the future."
      ]
    }
  ]
}