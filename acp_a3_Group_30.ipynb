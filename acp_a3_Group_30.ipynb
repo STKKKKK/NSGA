{
  "nbformat": 4,
  "nbformat_minor": 0,
  "metadata": {
    "colab": {
      "name": "acp_a3_Group#30.ipynb",
      "provenance": [],
      "collapsed_sections": [],
      "toc_visible": true,
      "authorship_tag": "ABX9TyOhWAfk7tYpX/6uOEFDtSWP",
      "include_colab_link": true
    },
    "kernelspec": {
      "name": "python3",
      "display_name": "Python 3"
    }
  },
  "cells": [
    {
      "cell_type": "markdown",
      "metadata": {
        "id": "view-in-github",
        "colab_type": "text"
      },
      "source": [
        "<a href=\"https://colab.research.google.com/github/STKKKKK/UTS_41004_ID12431868/blob/master/acp_a3_Group_30.ipynb\" target=\"_parent\"><img src=\"https://colab.research.google.com/assets/colab-badge.svg\" alt=\"Open In Colab\"/></a>"
      ]
    },
    {
      "cell_type": "markdown",
      "metadata": {
        "id": "M5QHlzMzNLNW",
        "colab_type": "text"
      },
      "source": [
        "# 41004_A3: Multi-Objective Optimization"
      ]
    },
    {
      "cell_type": "markdown",
      "metadata": {
        "id": "ZcFku9TW4kIC",
        "colab_type": "text"
      },
      "source": [
        "Github Link:<br> https://github.com/STKKKKK/UTS_41004_ID12431868/blob/master/acp_a3_Group_30.ipynb"
      ]
    },
    {
      "cell_type": "markdown",
      "metadata": {
        "id": "vGFOKxne5ke7",
        "colab_type": "text"
      },
      "source": [
        "**Group #30 members:**<br>\n",
        "Yi Lin   12444129<br>\n",
        "Shiwei Xu   12418986<br>\n",
        "Yuxiang Xu   12715948<br>\n",
        "Hong Kung   12431868<br>"
      ]
    },
    {
      "cell_type": "markdown",
      "metadata": {
        "id": "AHii5swIABMF",
        "colab_type": "text"
      },
      "source": [
        "## Executive Summary & Problem Description"
      ]
    },
    {
      "cell_type": "markdown",
      "metadata": {
        "id": "Aqg4WbemAJFN",
        "colab_type": "text"
      },
      "source": [
        "MOO refers to Multi-objective optimization. It is a field of multi criteria decision-making. It is a <br>\n",
        "mathematical problem involving the simultaneous optimization of multiple objective functions. <br>\n",
        "\n",
        "Our data analytics company will help our customer deal with MOO(multi-objective optimization) <br>problems with their dataset. As it is shown later, The dataset is about social network analysis,<br> include 1000 topic nodes (rows) and 5 attributes (columns). **In MOO, each attribute (column)<br>will be considered as a objective.**<br>\n",
        "\n",
        "In the previous task, we successfully use 3 traditional approaches to re-rank these nodes by<br> multiple objectives, which both scalarization(equal weights) and machine learning appraoches <br>can only provide the result without practical significance in MOO aspect. Non-dominated sorting <br>performs better and provide the output which contains 37 pareto-fronts of 1000 nodes. Hence <br>we will develope the model based on non-dominated sorting.<br>\n",
        "\n",
        "Our final goal is to build a NSGA(non-dominated sorting genetic algorithm) like model to process <br>data. The model detail will be dicussed in further sections. **Generally speaking, the input of <br> this project is the raw dataset, the output will be the ranking list of 1000 nodes.**<br>\n",
        "\n"
      ]
    },
    {
      "cell_type": "markdown",
      "metadata": {
        "id": "YkFAdC5sAwt4",
        "colab_type": "text"
      },
      "source": [
        "## Data Exploration"
      ]
    },
    {
      "cell_type": "markdown",
      "metadata": {
        "id": "6z1OKzfRDoje",
        "colab_type": "text"
      },
      "source": [
        "We use the same dataset as previous, the dataset is an excel file and has been uploaded to github.  "
      ]
    },
    {
      "cell_type": "code",
      "metadata": {
        "id": "ECH3BT2qXTD2",
        "colab_type": "code",
        "colab": {}
      },
      "source": [
        "import numpy as np\n",
        "import pandas as pd\n",
        "import math\n",
        "import random"
      ],
      "execution_count": 0,
      "outputs": []
    },
    {
      "cell_type": "code",
      "metadata": {
        "id": "BAQXoChIY3oY",
        "colab_type": "code",
        "outputId": "018486b3-36e2-4510-c9b3-6acadcd471ba",
        "colab": {
          "base_uri": "https://localhost:8080/",
          "height": 238
        }
      },
      "source": [
        "url = 'https://raw.githubusercontent.com/STKKKKK/UTS_41004_ID12431868/master/Topic4_IS_multipleRanking.xlsx'\n",
        "df = pd.read_excel(url)\n",
        "\n",
        "df.head()"
      ],
      "execution_count": 0,
      "outputs": [
        {
          "output_type": "execute_result",
          "data": {
            "text/html": [
              "<div>\n",
              "<style scoped>\n",
              "    .dataframe tbody tr th:only-of-type {\n",
              "        vertical-align: middle;\n",
              "    }\n",
              "\n",
              "    .dataframe tbody tr th {\n",
              "        vertical-align: top;\n",
              "    }\n",
              "\n",
              "    .dataframe thead th {\n",
              "        text-align: right;\n",
              "    }\n",
              "</style>\n",
              "<table border=\"1\" class=\"dataframe\">\n",
              "  <thead>\n",
              "    <tr style=\"text-align: right;\">\n",
              "      <th></th>\n",
              "      <th>Node</th>\n",
              "      <th>Degree Centrality</th>\n",
              "      <th>Closeness Centrality</th>\n",
              "      <th>Between Centrality</th>\n",
              "      <th>Connectivity</th>\n",
              "      <th>Externality</th>\n",
              "    </tr>\n",
              "  </thead>\n",
              "  <tbody>\n",
              "    <tr>\n",
              "      <th>0</th>\n",
              "      <td>Bibliometrics</td>\n",
              "      <td>3905.924925</td>\n",
              "      <td>0.806295</td>\n",
              "      <td>0.021293</td>\n",
              "      <td>9.620818</td>\n",
              "      <td>62045</td>\n",
              "    </tr>\n",
              "    <tr>\n",
              "      <th>1</th>\n",
              "      <td>Information retrieval</td>\n",
              "      <td>2157.933934</td>\n",
              "      <td>0.753394</td>\n",
              "      <td>0.018668</td>\n",
              "      <td>6.956349</td>\n",
              "      <td>26450</td>\n",
              "    </tr>\n",
              "    <tr>\n",
              "      <th>2</th>\n",
              "      <td>collaboration</td>\n",
              "      <td>2465.552553</td>\n",
              "      <td>0.793487</td>\n",
              "      <td>0.021247</td>\n",
              "      <td>6.073034</td>\n",
              "      <td>28579</td>\n",
              "    </tr>\n",
              "    <tr>\n",
              "      <th>3</th>\n",
              "      <td>United States</td>\n",
              "      <td>2077.891892</td>\n",
              "      <td>0.770833</td>\n",
              "      <td>0.018114</td>\n",
              "      <td>5.764045</td>\n",
              "      <td>23063</td>\n",
              "    </tr>\n",
              "    <tr>\n",
              "      <th>4</th>\n",
              "      <td>case study</td>\n",
              "      <td>1771.111111</td>\n",
              "      <td>0.794118</td>\n",
              "      <td>0.021508</td>\n",
              "      <td>2.436242</td>\n",
              "      <td>21383</td>\n",
              "    </tr>\n",
              "  </tbody>\n",
              "</table>\n",
              "</div>"
            ],
            "text/plain": [
              "                    Node  Degree Centrality  ...  Connectivity  Externality\n",
              "0          Bibliometrics        3905.924925  ...      9.620818        62045\n",
              "1  Information retrieval        2157.933934  ...      6.956349        26450\n",
              "2          collaboration        2465.552553  ...      6.073034        28579\n",
              "3          United States        2077.891892  ...      5.764045        23063\n",
              "4             case study        1771.111111  ...      2.436242        21383\n",
              "\n",
              "[5 rows x 6 columns]"
            ]
          },
          "metadata": {
            "tags": []
          },
          "execution_count": 9
        }
      ]
    },
    {
      "cell_type": "markdown",
      "metadata": {
        "id": "5F81OUaH_6C6",
        "colab_type": "text"
      },
      "source": [
        "Our NSGA model need easier access to specific columns or nodes in the dataset, and only <br>support numeric value analytics. Therefore, after we use pandas library to read the data, we need <br>to tranfer the data type from pandas.core.frame.DataFrame to a numpy array, then reserve it<br> and drop the Node-name column."
      ]
    },
    {
      "cell_type": "code",
      "metadata": {
        "id": "m2oiHWRXZnCG",
        "colab_type": "code",
        "outputId": "b1c29d22-46d2-41ec-d105-e0b29eca7d30",
        "colab": {
          "base_uri": "https://localhost:8080/",
          "height": 34
        }
      },
      "source": [
        "df = np.array(df)      \n",
        "df = df.T[1:] \n",
        "# show the shape         \n",
        "df.shape"
      ],
      "execution_count": 0,
      "outputs": [
        {
          "output_type": "execute_result",
          "data": {
            "text/plain": [
              "(5, 1000)"
            ]
          },
          "metadata": {
            "tags": []
          },
          "execution_count": 10
        }
      ]
    },
    {
      "cell_type": "markdown",
      "metadata": {
        "id": "LjqSjZOYYfG_",
        "colab_type": "text"
      },
      "source": [
        "## Reviewing & Planning"
      ]
    },
    {
      "cell_type": "markdown",
      "metadata": {
        "id": "H2yfn07dE6vg",
        "colab_type": "text"
      },
      "source": [
        "As previous task mentioned, NS(non-dominated sort) is not enough to deal with the MOO project since <br>we want a absolute ranking list instead of a list of pareto-fronts. We need to combine NS with a <br>robust algorithm model in MOO field. According to our research, GA(Generic algorithm) is ​used to <br>generate high-quality solutions to ‘​optimization​ and ​search problems​’, while NSGA (which is the <br>combination of NS and GA) is widely used in MOO,hence this will be the best choice of our project. <br>In other words, our goal is to build a model which is similar to NSGA.<br><br>\n",
        "\n",
        "\n",
        "GA is inspired by the process of ​natural selection​.  Since our dataset doesn't have any off-spring issue.<br> We can't use the operators such as mutation, crossover and selection. In other words, we can't develop <br>an actual NSGA model or its advanced version such as NSGA-II. <br> \n",
        "Howover, we still need to find an operator to do re-rank all the nodes inside a pareto-front. **In that case,<br> we can add a crowding-distance operator (introduced in NSGA-II) to re-rank a single front.**<br><br>\n",
        "\n",
        "**All in all,**<br>\n",
        "**In previous we can only:** \n",
        "0. get the fronts, based on multiple columns of value.<br>\n",
        "\n",
        "**In order to build our model, we still need:** <br>\n",
        "1. sort a single front, based on\n",
        "single column of value<br> \n",
        "2. sort a single front, based on a list of crowding distance.<br>\n",
        "3. A crowding-distance calculator"
      ]
    },
    {
      "cell_type": "markdown",
      "metadata": {
        "id": "w8JZYNZkY5s8",
        "colab_type": "text"
      },
      "source": [
        "## Modelling"
      ]
    },
    {
      "cell_type": "markdown",
      "metadata": {
        "id": "Br354Xg8_1MV",
        "colab_type": "text"
      },
      "source": [
        "**The description is shown in several \"\"\" docs.**"
      ]
    },
    {
      "cell_type": "code",
      "metadata": {
        "id": "ZsGZ4O55BIZz",
        "colab_type": "code",
        "colab": {}
      },
      "source": [
        "class NSGA:\n",
        "    \"\"\"\n",
        "    This model is neither NSGA nor NSGA-II, but include some key functionalties \n",
        "    of them.\n",
        "    \"\"\"\n",
        "\n",
        "    def __init__(self, data):\n",
        "        self.data = data\n",
        "        self.fronts = self.fast_non_dominated_sort()\n",
        "\n",
        "\n",
        "    def run(self, pop_size): \n",
        "        \"\"\"\n",
        "        This is the main program to run the NSGA.\n",
        "        This will return a ranking list of the nodes index.\n",
        "        \"\"\"\n",
        "        ranks = []\n",
        "        for front in self.fronts:\n",
        "            cd = self.crowding_distance(front)\n",
        "            new_front = self.sort_by_values(front, cd, val_type='dict')\n",
        "            new_front.reverse()\n",
        "            ranks.extend(new_front)\n",
        "            if (len(ranks) > pop_size):\n",
        "                break\n",
        "        return ranks\n",
        "\n",
        "\n",
        "    def dominate(self, a, b):   \n",
        "        \"\"\"\n",
        "        This function will return an int.\n",
        "        return 1:  true\n",
        "        return 0:  false\n",
        "        return -1: neither \n",
        "        a, b     : index of 2 points\n",
        "        \"\"\"    \n",
        "        cols = self.data\n",
        "        n = len(cols)\n",
        "        flags = []\n",
        "        for col in cols:\n",
        "            if col[a] > col[b]:\n",
        "                flags.append('greater')\n",
        "            elif col[a] < col[b]:\n",
        "                flags.append('smaller')\n",
        "            elif col[a] == col[b]:\n",
        "                flags.append('equal')\n",
        "        \n",
        "        if ('greater' not in flags and 'smaller' not in flags): # a,b are same point\n",
        "            return -1\n",
        "        elif ('smaller' not in flags):\n",
        "            return 1\n",
        "        elif ('greater' not in flags):\n",
        "            return 0\n",
        "        else:\n",
        "            return -1\n",
        "\n",
        "\n",
        "    def fast_non_dominated_sort(self):\n",
        "        \"\"\"\n",
        "        This fuction will return the Pareto front after sorting.\n",
        "        Front: Pareto front\n",
        "        Dom:   dominate list of each point.\n",
        "        n:     'inferior level' of each point.\n",
        "            -- for example: n[A]==0 :point A is not dominated by any point.\n",
        "                            n[A]==2 :point A is dominated by all points with n[B]==1,\n",
        "                                    and dominates all points with n[C]==3.\n",
        "        rank:  rank of the point.\n",
        "        \"\"\"\n",
        "        cols = self.data\n",
        "        Front = [[]]\n",
        "        Dom = [[] for i in range(0,len(cols[0]))]\n",
        "        n = [0 for i in range(0,len(cols[0]))]\n",
        "\n",
        "        for f in range(0,len(cols[0])):\n",
        "            for g in range(0, len(cols[0])):\n",
        "                if (self.dominate(f, g) == 1) and not(g in Dom[f]):\n",
        "                    Dom[f].append(g)\n",
        "                elif (self.dominate(f, g) == 0):\n",
        "                    n[f] = n[f] +1        \n",
        "            if (n[f] == 0) and not(f in Front[0]):\n",
        "                Front[0].append(f)\n",
        "\n",
        "        rank = 0\n",
        "        while(Front[rank] != []):\n",
        "            Q=[]\n",
        "            for f in Front[rank]:\n",
        "                for g in Dom[f]:\n",
        "                    n[g] = n[g] -1\n",
        "                    if (n[g] == 0) and not(g in Q):\n",
        "                        Q.append(g)\n",
        "            rank = rank +1\n",
        "            Front.append(Q)\n",
        "\n",
        "        Front.pop()\n",
        "        return Front \n",
        "\n",
        "\n",
        "    def sort_by_values(self, front, val, val_type='npArray'):\n",
        "        \"\"\"\n",
        "        This function sort a single front from val.\n",
        "        val: a list of values, which may according to: \n",
        "                1. a single column from dataframe (<numpy.ndarray>)\n",
        "                2. or crowding distances (<dict>)\n",
        "             Hence this function has 2 usages!\n",
        "        \"\"\"\n",
        "        Sorted = []\n",
        "        while (len(Sorted) != len(front)):\n",
        "            if val_type == 'npArray':       \n",
        "                val = list(val)   # numpy can't use .index()\n",
        "                idx = val.index(min(val))\n",
        "            elif val_type == 'dict':\n",
        "                for key, dis in val.items():\n",
        "                    if dis == min(val.values()):\n",
        "                        idx = key\n",
        "            else: return front   # substitude for using Exception \n",
        "\n",
        "            if idx in front:\n",
        "                Sorted.append(idx)\n",
        "            val[idx] = math.inf\n",
        "        return Sorted\n",
        "\n",
        "\n",
        "    def crowding_distance(self, front):\n",
        "        \"\"\"\n",
        "        This function will return a dictionary of {nodes in front: their dis}. \n",
        "        dis: crowding_distance    \n",
        "        For a single objective (column), the dis formula of a node:\n",
        "            dis[node] = (o(larger neighbor) - o(smaller neighbor))/(max(o) – min(o))\n",
        "            dis[node] = 0  if o(node) is the Min in its front, \n",
        "            dis[node] = 1  if o(node) is the Man in its front.\n",
        "        \"\"\"\n",
        "        dis = {node: 0 for node in front}\n",
        "        for col in self.data:\n",
        "            Sorted = self.sort_by_values(front, col)\n",
        "            for i, node in enumerate(Sorted[1:-1], start=1):\n",
        "                dis[node] = dis[node] + (col[Sorted[i+1]]- col[Sorted[i-1]])/ (max(col)- min(col))\n",
        "            # dis[Sorted[1]] = dis[Sorted[1]] + 0    # omitted\n",
        "            dis[Sorted[-1]] = dis[Sorted[-1]] + 1\n",
        "        return dis\n",
        "        "
      ],
      "execution_count": 0,
      "outputs": []
    },
    {
      "cell_type": "markdown",
      "metadata": {
        "id": "5oJc-RC2a1s1",
        "colab_type": "text"
      },
      "source": [
        "## Data Processing"
      ]
    },
    {
      "cell_type": "markdown",
      "metadata": {
        "id": "lFcc7DYxGghO",
        "colab_type": "text"
      },
      "source": [
        "To process the dataset, we create the model."
      ]
    },
    {
      "cell_type": "code",
      "metadata": {
        "id": "YRp647RQd0WI",
        "colab_type": "code",
        "colab": {}
      },
      "source": [
        "model = NSGA(df)"
      ],
      "execution_count": 0,
      "outputs": []
    },
    {
      "cell_type": "markdown",
      "metadata": {
        "id": "9uZ5CX3zcfAJ",
        "colab_type": "text"
      },
      "source": [
        "Initially, we can test some separate methods of NSGA."
      ]
    },
    {
      "cell_type": "code",
      "metadata": {
        "id": "dZd__p28EdOF",
        "colab_type": "code",
        "outputId": "20af27b3-f5b5-42f4-efac-aea81a7a618a",
        "colab": {
          "base_uri": "https://localhost:8080/",
          "height": 170
        }
      },
      "source": [
        "# Get the fronts, can also call 'fast_non_dominated_sort()'\n",
        "fronts = model.fronts\n",
        "print(*fronts[:7], sep='\\n')\n",
        "print('\\n', 'There are', len(model.fronts), 'Pareto-fronts in 1000 nodes!')"
      ],
      "execution_count": 0,
      "outputs": [
        {
          "output_type": "stream",
          "text": [
            "[0, 4]\n",
            "[1, 2]\n",
            "[3, 7]\n",
            "[5, 11, 6, 10, 12, 13, 16, 18, 43]\n",
            "[29, 8, 14, 19, 24, 15, 21, 28]\n",
            "[22, 32, 34, 35, 9, 33, 17, 20, 25, 26, 41]\n",
            "[45, 39, 40, 44, 46, 23, 31, 37]\n",
            "\n",
            " There are 37 Pareto-fronts in 1000 nodes!\n"
          ],
          "name": "stdout"
        }
      ]
    },
    {
      "cell_type": "code",
      "metadata": {
        "id": "N9f8a65I7p-P",
        "colab_type": "code",
        "outputId": "14a7cbe0-9768-42b7-deed-c46ca8424052",
        "colab": {
          "base_uri": "https://localhost:8080/",
          "height": 170
        }
      },
      "source": [
        "# show the crowding distance of each node in a front\n",
        "model.crowding_distance(model.fronts[3])"
      ],
      "execution_count": 0,
      "outputs": [
        {
          "output_type": "execute_result",
          "data": {
            "text/plain": [
              "{5: 2.0937400943931346,\n",
              " 6: 0.44718699073326906,\n",
              " 10: 0.20742885934900418,\n",
              " 11: 0.3338109028915377,\n",
              " 12: 0.17838242685781736,\n",
              " 13: 2.147702358633937,\n",
              " 16: 0.4455666263080032,\n",
              " 18: 0.27357596915209775,\n",
              " 43: 1.0302755697848434}"
            ]
          },
          "metadata": {
            "tags": []
          },
          "execution_count": 15
        }
      ]
    },
    {
      "cell_type": "markdown",
      "metadata": {
        "id": "jdcSk2helvcI",
        "colab_type": "text"
      },
      "source": [
        "Then, we can run the model. <br>\n",
        "if the pop_size is set to 20, we will get the node index which ranks from 1~20 out of 1000."
      ]
    },
    {
      "cell_type": "code",
      "metadata": {
        "id": "yCcJGSjqZjtl",
        "colab_type": "code",
        "outputId": "27c6d7c4-9e7f-468a-924c-9db99adefe55",
        "colab": {
          "base_uri": "https://localhost:8080/",
          "height": 34
        }
      },
      "source": [
        "print(model.run(20))"
      ],
      "execution_count": 0,
      "outputs": [
        {
          "output_type": "stream",
          "text": [
            "[0, 4, 2, 1, 3, 7, 13, 5, 43, 6, 16, 11, 18, 10, 12, 8, 29, 19, 28, 15, 21, 24, 14]\n"
          ],
          "name": "stdout"
        }
      ]
    },
    {
      "cell_type": "markdown",
      "metadata": {
        "id": "wbrvS-_CrL7y",
        "colab_type": "text"
      },
      "source": [
        "## Future Prospects"
      ]
    },
    {
      "cell_type": "markdown",
      "metadata": {
        "id": "fVHrd0YBrNLp",
        "colab_type": "text"
      },
      "source": [
        "Finally we see that the NSGA model run successfully. In fact, this model will support any size <br>of dataset without null values or non-numeric values, which the size is refers to columns(objectives) <br>and rows(nodes). <br>\n",
        "This is why we recommend our 'NSGA' like model to customers. It is also important that we built <br>this NSGA class which provide the good extendability. Since there are still many operators need <br>to be added in order to build a completed NSGA-II though we don't need it for now. <br>At last, We expect that the developers like us will keep progress in future."
      ]
    }
  ]
}